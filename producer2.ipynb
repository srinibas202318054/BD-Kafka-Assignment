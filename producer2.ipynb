{
 "cells": [
  {
   "cell_type": "code",
   "execution_count": 7,
   "id": "26e63c1d",
   "metadata": {},
   "outputs": [
    {
     "name": "stdout",
     "output_type": "stream",
     "text": [
      "Collecting kafka-python\n",
      "  Downloading kafka_python-2.0.2-py2.py3-none-any.whl (246 kB)\n",
      "                                              0.0/246.5 kB ? eta -:--:--\n",
      "     ----------------------                 143.4/246.5 kB 4.3 MB/s eta 0:00:01\n",
      "     -------------------------------------  245.8/246.5 kB 3.0 MB/s eta 0:00:01\n",
      "     -------------------------------------  245.8/246.5 kB 3.0 MB/s eta 0:00:01\n",
      "     -------------------------------------- 246.5/246.5 kB 1.7 MB/s eta 0:00:00\n",
      "Installing collected packages: kafka-python\n",
      "Successfully installed kafka-python-2.0.2\n",
      "Note: you may need to restart the kernel to use updated packages.\n"
     ]
    }
   ],
   "source": [
    "pip install kafka-python"
   ]
  },
  {
   "cell_type": "code",
   "execution_count": 8,
   "id": "dabd6409",
   "metadata": {},
   "outputs": [
    {
     "name": "stdout",
     "output_type": "stream",
     "text": [
      "Requirement already satisfied: kafka-python in c:\\users\\masan\\anaconda3\\lib\\site-packages (2.0.2)\n",
      "Note: you may need to restart the kernel to use updated packages.\n"
     ]
    }
   ],
   "source": [
    "pip install --upgrade kafka-python"
   ]
  },
  {
   "cell_type": "code",
   "execution_count": 2,
   "id": "713ad204",
   "metadata": {},
   "outputs": [],
   "source": [
    "from kafka import KafkaProducer\n",
    "import json\n",
    "\n",
    "bootstrap_servers = 'localhost:9092'\n",
    "topic = 'test'\n",
    "\n",
    "def filter_delivery_messages(data):\n",
    "    return [msg for msg in data if msg['type'] == 'delivery']\n",
    "\n",
    "with open(\"C:\\\\Users\\\\masan\\\\My New Jupyter Notebook\\\\data.json\", \"r\") as f:\n",
    "    data = json.load(f)\n",
    "\n",
    "delivery_messages = filter_delivery_messages(data)\n",
    "\n",
    "producer = KafkaProducer(bootstrap_servers=bootstrap_servers,\n",
    "                         value_serializer=lambda v: json.dumps(v).encode('utf-8'))\n",
    "\n",
    "for message in delivery_messages:\n",
    "    producer.send(topic, value=message)\n",
    "\n",
    "producer.close()"
   ]
  },
  {
   "cell_type": "code",
   "execution_count": null,
   "id": "a0823da8",
   "metadata": {},
   "outputs": [],
   "source": []
  }
 ],
 "metadata": {
  "kernelspec": {
   "display_name": "Python 3 (ipykernel)",
   "language": "python",
   "name": "python3"
  },
  "language_info": {
   "codemirror_mode": {
    "name": "ipython",
    "version": 3
   },
   "file_extension": ".py",
   "mimetype": "text/x-python",
   "name": "python",
   "nbconvert_exporter": "python",
   "pygments_lexer": "ipython3",
   "version": "3.11.3"
  }
 },
 "nbformat": 4,
 "nbformat_minor": 5
}
