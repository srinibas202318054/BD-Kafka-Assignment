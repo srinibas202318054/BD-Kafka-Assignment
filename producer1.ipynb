{
 "cells": [
  {
   "cell_type": "code",
   "execution_count": 2,
   "id": "af57befb",
   "metadata": {},
   "outputs": [],
   "source": [
    "from kafka import KafkaProducer\n",
    "import json\n",
    "\n",
    "bootstrap_servers = 'localhost:9092'\n",
    "topic = 'test'\n",
    "\n",
    "def filter_inventory_messages(data):\n",
    "    return [msg for msg in data if msg['type'] == 'inventory']\n",
    "\n",
    "with open(\"C:\\\\Users\\\\masan\\\\My New Jupyter Notebook\\\\data.json\", \"r\") as f:\n",
    "    data = json.load(f)\n",
    "\n",
    "inventory_messages = filter_inventory_messages(data)\n",
    "\n",
    "producer = KafkaProducer(bootstrap_servers=bootstrap_servers,\n",
    "                         value_serializer=lambda v: json.dumps(v).encode('utf-8'))\n",
    "\n",
    "for message in inventory_messages:\n",
    "    producer.send(topic, value=message)\n",
    "\n",
    "producer.close()"
   ]
  },
  {
   "cell_type": "code",
   "execution_count": null,
   "id": "eb142234",
   "metadata": {},
   "outputs": [],
   "source": []
  }
 ],
 "metadata": {
  "kernelspec": {
   "display_name": "Python 3 (ipykernel)",
   "language": "python",
   "name": "python3"
  },
  "language_info": {
   "codemirror_mode": {
    "name": "ipython",
    "version": 3
   },
   "file_extension": ".py",
   "mimetype": "text/x-python",
   "name": "python",
   "nbconvert_exporter": "python",
   "pygments_lexer": "ipython3",
   "version": "3.11.3"
  }
 },
 "nbformat": 4,
 "nbformat_minor": 5
}
